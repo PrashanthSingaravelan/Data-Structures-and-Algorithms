{
 "cells": [
  {
   "cell_type": "code",
   "execution_count": 1,
   "id": "bf351673",
   "metadata": {},
   "outputs": [],
   "source": [
    "def insertion_sort(list1):\n",
    "    for i in range(len(list1)):\n",
    "        \n",
    "        element = list1[i]\n",
    "        j       = i-1\n",
    "        \n",
    "        while(j>-1 and list1[j]>element):\n",
    "            list1[j+1] = list1[j]\n",
    "            print(list1)\n",
    "            j-=1\n",
    "\n",
    "        list1[j+1] = element\n",
    "    return list1"
   ]
  },
  {
   "cell_type": "code",
   "execution_count": 3,
   "id": "36aa4cdc",
   "metadata": {},
   "outputs": [
    {
     "name": "stdout",
     "output_type": "stream",
     "text": [
      "[6, 8, 12, 14, 18, 20, 20]\n",
      "[6, 8, 12, 14, 18, 18, 20]\n",
      "[6, 8, 12, 14, 14, 18, 20]\n",
      "[6, 8, 12, 12, 14, 18, 20]\n",
      "\n",
      "Final answer -->  [6, 8, 10, 12, 14, 18, 20]\n"
     ]
    }
   ],
   "source": [
    "list1 = [6,8,12,14,18,20,10]\n",
    "print(\"\\nFinal answer --> \",insertion_sort(list1))"
   ]
  }
 ],
 "metadata": {
  "kernelspec": {
   "display_name": "Python 3 (ipykernel)",
   "language": "python",
   "name": "python3"
  },
  "language_info": {
   "codemirror_mode": {
    "name": "ipython",
    "version": 3
   },
   "file_extension": ".py",
   "mimetype": "text/x-python",
   "name": "python",
   "nbconvert_exporter": "python",
   "pygments_lexer": "ipython3",
   "version": "3.10.6"
  }
 },
 "nbformat": 4,
 "nbformat_minor": 5
}

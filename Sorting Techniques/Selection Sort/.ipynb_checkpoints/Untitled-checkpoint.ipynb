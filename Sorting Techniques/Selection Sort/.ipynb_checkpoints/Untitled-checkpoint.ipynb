{
 "cells": [
  {
   "cell_type": "code",
   "execution_count": 14,
   "id": "dfe8533f",
   "metadata": {},
   "outputs": [],
   "source": [
    "class Solution: \n",
    "    def select(self, arr, i):\n",
    "        j=k=i\n",
    "        for j in range(len(arr)):\n",
    "            print(\"times-2\")\n",
    "            if arr[j]<arr[k]:\n",
    "                k=j\n",
    "        return k\n",
    "    \n",
    "    def selectionSort(self, arr,n):\n",
    "        for i in range(n):\n",
    "            print(\"\\ntimes-1\")\n",
    "            k = self.select(arr, i)\n",
    "            arr[i], arr[k] = arr[k], arr[i]\n",
    "        return arr"
   ]
  },
  {
   "cell_type": "code",
   "execution_count": 15,
   "id": "eb25dd02",
   "metadata": {},
   "outputs": [],
   "source": [
    "obj1 = Solution()"
   ]
  },
  {
   "cell_type": "code",
   "execution_count": 16,
   "id": "06e08bd3",
   "metadata": {},
   "outputs": [
    {
     "name": "stdout",
     "output_type": "stream",
     "text": [
      "\n",
      "times-1\n",
      "times-2\n",
      "times-2\n",
      "times-2\n",
      "times-2\n",
      "times-2\n",
      "\n",
      "times-1\n",
      "times-2\n",
      "times-2\n",
      "times-2\n",
      "times-2\n",
      "times-2\n",
      "\n",
      "times-1\n",
      "times-2\n",
      "times-2\n",
      "times-2\n",
      "times-2\n",
      "times-2\n",
      "\n",
      "times-1\n",
      "times-2\n",
      "times-2\n",
      "times-2\n",
      "times-2\n",
      "times-2\n",
      "\n",
      "times-1\n",
      "times-2\n",
      "times-2\n",
      "times-2\n",
      "times-2\n",
      "times-2\n"
     ]
    },
    {
     "data": {
      "text/plain": [
       "[4, 3, 9, 7, 1]"
      ]
     },
     "execution_count": 16,
     "metadata": {},
     "output_type": "execute_result"
    }
   ],
   "source": [
    "list1 = [8,6,3,2,5,4]\n",
    "list1 = [4, 1, 3, 9, 7]\n",
    "obj1.selectionSort(list1, len(list1))"
   ]
  },
  {
   "cell_type": "code",
   "execution_count": null,
   "id": "750fa5dc",
   "metadata": {},
   "outputs": [],
   "source": []
  }
 ],
 "metadata": {
  "kernelspec": {
   "display_name": "Python 3 (ipykernel)",
   "language": "python",
   "name": "python3"
  },
  "language_info": {
   "codemirror_mode": {
    "name": "ipython",
    "version": 3
   },
   "file_extension": ".py",
   "mimetype": "text/x-python",
   "name": "python",
   "nbconvert_exporter": "python",
   "pygments_lexer": "ipython3",
   "version": "3.10.6"
  }
 },
 "nbformat": 4,
 "nbformat_minor": 5
}

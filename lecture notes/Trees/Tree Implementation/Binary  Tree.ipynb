{
 "cells": [
  {
   "cell_type": "code",
   "execution_count": 1,
   "id": "3bc0f12e",
   "metadata": {},
   "outputs": [],
   "source": [
    "class Node(object):\n",
    "    def __init__(self, value):\n",
    "        self.value = value\n",
    "        self.left  = None\n",
    "        self.right = None\n",
    "        \n",
    "class BinaryTree(object):\n",
    "    def __init__(self, root):\n",
    "        self.root = Node(root)  ## Initial tree will have only the element, left=None and right=None"
   ]
  },
  {
   "cell_type": "code",
   "execution_count": 2,
   "id": "4ff78929",
   "metadata": {},
   "outputs": [],
   "source": [
    "# Set up tree\n",
    "tree = BinaryTree(1) ## root-node creation\n",
    "tree.root.left       = Node(2)\n",
    "tree.root.right      = Node(3)\n",
    "tree.root.left.left  = Node(4)\n",
    "tree.root.left.right = Node(5)"
   ]
  },
  {
   "cell_type": "code",
   "execution_count": null,
   "id": "0701af68",
   "metadata": {},
   "outputs": [],
   "source": []
  },
  {
   "cell_type": "code",
   "execution_count": 2,
   "id": "455b4875",
   "metadata": {},
   "outputs": [],
   "source": [
    "class BinaryTree(object):\n",
    "    def __init__(self, root):\n",
    "        self.root = Node(root)  ## Initial tree will have only the element, left=None and right=None\n",
    "        \n",
    "    def preorder_print(self, start, traversal):\n",
    "        if start:\n",
    "            traversal += (str(start.value) + \"-\")\n",
    "            traversal = self.preorder_print(start.left, traversal)\n",
    "            traversal = self.preorder_print(start.right, traversal)\n",
    "        return traversal\n",
    "    \n",
    "    def postorder_print(self, start, traversal):\n",
    "        if start:\n",
    "            traversal = self.postorder_print(start.left, traversal)\n",
    "            traversal = self.postorder_print(start.right, traversal)\n",
    "            traversal += (str(start.value) + \"-\")\n",
    "        return traversal\n",
    "    \n",
    "    def inorder_print(self, start, traversal):\n",
    "        if start:\n",
    "            traversal = self.inorder_print(start.left, traversal)\n",
    "            traversal += (str(start.value) + \"-\")\n",
    "            traversal = self.inorder_print(start.right, traversal)\n",
    "        return traversal\n",
    "    \n",
    "    def search(self, find_val):\n",
    "        return self.preorder_search(self.root, find_val)\n",
    "\n",
    "    def print_tree(self):\n",
    "        return self.preorder_print(self.root, \"\")[:-1]\n",
    "    \n",
    "    def print_Intree(self):\n",
    "        return self.inorder_print(self.root, \"\")[:-1]\n",
    "    \n",
    "    def print_Posttree(self):\n",
    "        return self.postorder_print(self.root, \"\")[:-1]\n",
    "\n",
    "    def preorder_search(self, start, find_val):\n",
    "        if start:\n",
    "            if start.value == find_val:\n",
    "                return True\n",
    "            else:\n",
    "                return self.preorder_search(start.left, find_val) or self.preorder_search(start.right, find_val)\n",
    "        return False\n",
    "\n"
   ]
  },
  {
   "cell_type": "code",
   "execution_count": 19,
   "id": "a1a7f461",
   "metadata": {},
   "outputs": [],
   "source": [
    "# Set up tree\n",
    "tree = BinaryTree(1) ## root-node creation\n",
    "tree.root.left       = Node(2)\n",
    "tree.root.right      = Node(3)\n",
    "tree.root.left.left  = Node(4)\n",
    "tree.root.left.right = Node(5)"
   ]
  },
  {
   "cell_type": "code",
   "execution_count": 20,
   "id": "ba717801",
   "metadata": {},
   "outputs": [
    {
     "ename": "AttributeError",
     "evalue": "'BinaryTree' object has no attribute 'left'",
     "output_type": "error",
     "traceback": [
      "\u001b[0;31m---------------------------------------------------------------------------\u001b[0m",
      "\u001b[0;31mAttributeError\u001b[0m                            Traceback (most recent call last)",
      "Cell \u001b[0;32mIn [20], line 1\u001b[0m\n\u001b[0;32m----> 1\u001b[0m dot \u001b[38;5;241m=\u001b[39m visualize_tree(tree)\n",
      "Cell \u001b[0;32mIn [18], line 22\u001b[0m, in \u001b[0;36mvisualize_tree\u001b[0;34m(tree)\u001b[0m\n\u001b[1;32m     19\u001b[0m     \u001b[38;5;28;01mreturn\u001b[39;00m dot\n\u001b[1;32m     21\u001b[0m \u001b[38;5;66;03m# Add nodes recursively and create a list of edges\u001b[39;00m\n\u001b[0;32m---> 22\u001b[0m dot \u001b[38;5;241m=\u001b[39m \u001b[43madd_nodes_edges\u001b[49m\u001b[43m(\u001b[49m\u001b[43mtree\u001b[49m\u001b[43m)\u001b[49m\n\u001b[1;32m     24\u001b[0m \u001b[38;5;66;03m# Visualize the graph\u001b[39;00m\n\u001b[1;32m     25\u001b[0m display(dot)\n",
      "Cell \u001b[0;32mIn [18], line 9\u001b[0m, in \u001b[0;36mvisualize_tree.<locals>.add_nodes_edges\u001b[0;34m(tree, dot)\u001b[0m\n\u001b[1;32m      6\u001b[0m     dot\u001b[38;5;241m.\u001b[39mnode(name\u001b[38;5;241m=\u001b[39m\u001b[38;5;28mstr\u001b[39m(tree), label\u001b[38;5;241m=\u001b[39m\u001b[38;5;28mstr\u001b[39m(tree))\n\u001b[1;32m      8\u001b[0m \u001b[38;5;66;03m# Add nodes\u001b[39;00m\n\u001b[0;32m----> 9\u001b[0m \u001b[38;5;28;01mif\u001b[39;00m \u001b[43mtree\u001b[49m\u001b[38;5;241;43m.\u001b[39;49m\u001b[43mleft\u001b[49m:\n\u001b[1;32m     10\u001b[0m     dot\u001b[38;5;241m.\u001b[39mnode(name\u001b[38;5;241m=\u001b[39m\u001b[38;5;28mstr\u001b[39m(tree\u001b[38;5;241m.\u001b[39mleft) ,label\u001b[38;5;241m=\u001b[39m\u001b[38;5;28mstr\u001b[39m(tree\u001b[38;5;241m.\u001b[39mleft))\n\u001b[1;32m     11\u001b[0m     dot\u001b[38;5;241m.\u001b[39medge(\u001b[38;5;28mstr\u001b[39m(tree), \u001b[38;5;28mstr\u001b[39m(tree\u001b[38;5;241m.\u001b[39mleft))\n",
      "\u001b[0;31mAttributeError\u001b[0m: 'BinaryTree' object has no attribute 'left'"
     ]
    }
   ],
   "source": [
    "dot = visualize_tree(tree)"
   ]
  },
  {
   "cell_type": "code",
   "execution_count": null,
   "id": "86639e65",
   "metadata": {},
   "outputs": [],
   "source": []
  },
  {
   "cell_type": "code",
   "execution_count": null,
   "id": "7c0565eb",
   "metadata": {},
   "outputs": [],
   "source": []
  },
  {
   "cell_type": "code",
   "execution_count": 19,
   "id": "651637ee",
   "metadata": {},
   "outputs": [
    {
     "name": "stdout",
     "output_type": "stream",
     "text": [
      "True\n",
      "False\n"
     ]
    }
   ],
   "source": [
    "# Test search\n",
    "# Should be True\n",
    "print(tree.search(4))\n",
    "# Should be False\n",
    "print(tree.search(6))"
   ]
  },
  {
   "cell_type": "code",
   "execution_count": 20,
   "id": "4b0e8997",
   "metadata": {},
   "outputs": [
    {
     "name": "stdout",
     "output_type": "stream",
     "text": [
      "Pre order\n",
      "1-2-4-5-3\n",
      "In order\n",
      "4-2-5-1-3\n",
      "Post order\n",
      "4-5-2-3-1\n"
     ]
    }
   ],
   "source": [
    "# Test print_tree\n",
    "# Should be 1-2-4-5-3\n",
    "print(\"Pre order\")\n",
    "print(tree.print_tree())\n",
    "print(\"In order\")\n",
    "print(tree.print_Intree())\n",
    "print(\"Post order\")\n",
    "print(tree.print_Posttree())"
   ]
  },
  {
   "cell_type": "code",
   "execution_count": null,
   "id": "f5dc7c31",
   "metadata": {},
   "outputs": [],
   "source": [
    "class Node(object):\n",
    "    def __init__(self, value):\n",
    "        self.value = value\n",
    "        self.left = None\n",
    "        self.right = None\n",
    "\n",
    "class BinaryTree(object):\n",
    "    def __init__(self, root):\n",
    "        self.root = Node(root)\n",
    "\n",
    "    def search(self, find_val):\n",
    "        \"\"\"Return True if the value\n",
    "        is in the tree, return\n",
    "        False otherwise.\"\"\"\n",
    "        if self.root == None:\n",
    "            return False\n",
    "        else:\n",
    "            return self.preorder_search(self.root, find_val)\n",
    "\n",
    "    def print_tree(self):\n",
    "        \"\"\"Print out all tree nodes\n",
    "        as they are visited in\n",
    "        a pre-order traversal.\"\"\"\n",
    "        traversal = []\n",
    "        self.preorder_print(self.root, traversal)\n",
    "        return '-'.join(traversal)\n",
    "\n",
    "    def preorder_search(self, start, find_val):\n",
    "        \"\"\"Helper method - use this to create a \n",
    "        recursive search solution.\"\"\"\n",
    "        if start:\n",
    "            if start.value == find_val:\n",
    "                return True\n",
    "            left = self.preorder_search( start.left, find_val)\n",
    "            right = self.preorder_search(start.right, find_val)\n",
    "            return left or right\n",
    "        else:\n",
    "            return False\n",
    "\n",
    "    def preorder_print(self, start, traversal):\n",
    "        \"\"\"Helper method - use this to create a \n",
    "        recursive print solution.\"\"\"\n",
    "\n",
    "        if start:\n",
    "            value = start.value\n",
    "            traversal.append(str(value))\n",
    "            self.preorder_print(start.left, traversal)\n",
    "            self.preorder_print(start.right, traversal)\n",
    "            "
   ]
  },
  {
   "cell_type": "code",
   "execution_count": null,
   "id": "d55e1b43",
   "metadata": {},
   "outputs": [],
   "source": [
    "# Set up tree\n",
    "tree = BinaryTree(1)\n",
    "tree.root.left = Node(2)\n",
    "tree.root.right = Node(3)\n",
    "tree.root.left.left = Node(4)\n",
    "tree.root.left.right = Node(5)"
   ]
  },
  {
   "cell_type": "code",
   "execution_count": null,
   "id": "403a6e67",
   "metadata": {},
   "outputs": [],
   "source": [
    "# Test search\n",
    "# Should be True\n",
    "print(tree.search(4))\n",
    "# Should be False\n",
    "print(tree.search(6))"
   ]
  },
  {
   "cell_type": "code",
   "execution_count": null,
   "id": "82529274",
   "metadata": {},
   "outputs": [],
   "source": [
    "# Test print_tree\n",
    "# Should be 1-2-4-5-3\n",
    "print(tree.print_tree())"
   ]
  },
  {
   "cell_type": "code",
   "execution_count": null,
   "id": "08ddb653",
   "metadata": {},
   "outputs": [],
   "source": []
  }
 ],
 "metadata": {
  "kernelspec": {
   "display_name": "Python 3 (ipykernel)",
   "language": "python",
   "name": "python3"
  },
  "language_info": {
   "codemirror_mode": {
    "name": "ipython",
    "version": 3
   },
   "file_extension": ".py",
   "mimetype": "text/x-python",
   "name": "python",
   "nbconvert_exporter": "python",
   "pygments_lexer": "ipython3",
   "version": "3.10.6"
  }
 },
 "nbformat": 4,
 "nbformat_minor": 5
}

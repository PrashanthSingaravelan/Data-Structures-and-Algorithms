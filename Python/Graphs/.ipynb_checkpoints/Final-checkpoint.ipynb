{
 "cells": [
  {
   "cell_type": "markdown",
   "metadata": {},
   "source": [
    "## Question-1"
   ]
  },
  {
   "cell_type": "code",
   "execution_count": null,
   "metadata": {},
   "outputs": [],
   "source": []
  },
  {
   "cell_type": "markdown",
   "metadata": {},
   "source": [
    "## Question-2"
   ]
  },
  {
   "cell_type": "code",
   "execution_count": null,
   "metadata": {},
   "outputs": [],
   "source": [
    "class Node(object):\n",
    "    def __init__(self, data):\n",
    "        self.data = data\n",
    "        self.leftChild = None\n",
    "        self.rightChild = None\n",
    "\n",
    "    def insert(self, data):\n",
    "        if self.data == data:\n",
    "            return False        \n",
    "\n",
    "        elif data < self.data:\n",
    "            \n",
    "            if self.leftChild:\n",
    "                return self.leftChild.insert(data)\n",
    "            else:\n",
    "                self.leftChild = Node(data)\n",
    "                return True\n",
    "\n",
    "        else:\n",
    "            \n",
    "            if self.rightChild:\n",
    "                return self.rightChild.insert(data)\n",
    "            else:\n",
    "                self.rightChild = Node(data)\n",
    "                return True\n",
    "\n",
    "    def preorder(self):\n",
    "        if self:\n",
    "            print(str(self.data), end = ' ')\n",
    "            if self.leftChild:\n",
    "                self.leftChild.preorder()\n",
    "            if self.rightChild:\n",
    "                self.rightChild.preorder()\n",
    "\n",
    "    def inorder(self):\n",
    "        if self:\n",
    "            if self.leftChild:\n",
    "                self.leftChild.inorder()\n",
    "            print(str(self.data), end = ' ')\n",
    "            if self.rightChild:\n",
    "                self.rightChild.inorder()\n",
    "\n",
    "    def postorder(self):\n",
    "        if self:\n",
    "            if self.leftChild:\n",
    "                self.leftChild.postorder()\n",
    "            if self.rightChild:\n",
    "                self.rightChild.postorder()\n",
    "            print(str(self.data), end = ' ')\n",
    "\n",
    "class Tree(object):\n",
    "    def __init__(self):\n",
    "        self.root = None\n",
    "\n",
    "    def insert(self, data):\n",
    "        if self.root:\n",
    "            return self.root.insert(data)\n",
    "        else:\n",
    "            self.root = Node(data)\n",
    "            return True\n",
    "\n",
    "\n",
    "    def preorder(self):\n",
    "        if self.root is not None:\n",
    "            print()\n",
    "            print('Preorder: ')\n",
    "            self.root.preorder()\n",
    "\n",
    "    def inorder(self):\n",
    "        print()\n",
    "        if self.root is not None:\n",
    "            print('Inorder: ')\n",
    "            self.root.inorder()\n",
    "\n",
    "    def postorder(self):\n",
    "        print()\n",
    "        if self.root is not None:\n",
    "            print('Postorder: ')\n",
    "            self.root.postorder()\n",
    "\n",
    "\n",
    "if __name__ == '__main__':\n",
    "    tree = Tree()\n",
    "    tree.insert(11)\n",
    "    tree.insert(5)\n",
    "    tree.insert(13)\n",
    "    tree.insert(7)\n",
    "    tree.insert(10)\n",
    "    tree.insert(14)\n",
    "    tree.insert(2)\n",
    "    tree.insert(4)\n",
    "    tree.insert(1)\n",
    "    tree.insert(9)\n",
    "    tree.insert(12)\n",
    "    \n",
    "    tree.preorder()\n",
    "    tree.inorder()\n",
    "    tree.postorder()"
   ]
  },
  {
   "cell_type": "code",
   "execution_count": 36,
   "metadata": {},
   "outputs": [],
   "source": [
    "from collections import defaultdict\n",
    "\n",
    "class Graph:\n",
    "\n",
    "    def __init__(self):\n",
    "        self.graph = defaultdict(list)\n",
    "\n",
    "    def addEdge(self, u, v):\n",
    "        self.graph[u].append(v)\n",
    "\n",
    "    def DFSUtil(self, v, visited):\n",
    "\n",
    "        visited.add(v)\n",
    "        print(v, end=' ')\n",
    "        \n",
    "        for neighbour in self.graph[v]:\n",
    "            if neighbour not in visited:\n",
    "                self.DFSUtil(neighbour, visited)\n",
    "\n",
    "    def DFS(self, v):\n",
    "        list1 = []\n",
    "        visited = set()\n",
    "        self.DFSUtil(v, visited)"
   ]
  },
  {
   "cell_type": "code",
   "execution_count": 37,
   "metadata": {},
   "outputs": [
    {
     "name": "stdout",
     "output_type": "stream",
     "text": [
      "11 5 2 1 4 9 7 10 13 12 14 "
     ]
    }
   ],
   "source": [
    "obj1 = Graph()\n",
    "obj1.addEdge(11,5)\n",
    "obj1.addEdge(11,13)\n",
    "\n",
    "obj1.addEdge(5,2)\n",
    "obj1.addEdge(5,9)\n",
    "\n",
    "obj1.addEdge(2,1)\n",
    "obj1.addEdge(2,4)\n",
    "\n",
    "obj1.addEdge(9,7)\n",
    "obj1.addEdge(9,10)\n",
    "\n",
    "obj1.addEdge(13,12)\n",
    "obj1.addEdge(13,14)\n",
    "\n",
    "obj1.DFS(11)"
   ]
  },
  {
   "cell_type": "code",
   "execution_count": 38,
   "metadata": {},
   "outputs": [],
   "source": [
    "bst_list1_dfs = [11,5,2,1,4,9,7,10,13,12,14]\n",
    "given_list = [5,6,10,13,14,16]"
   ]
  },
  {
   "cell_type": "code",
   "execution_count": 39,
   "metadata": {},
   "outputs": [
    {
     "name": "stdout",
     "output_type": "stream",
     "text": [
      "5 is found in the bst tree\n",
      "10 is found in the bst tree\n",
      "13 is found in the bst tree\n",
      "14 is found in the bst tree\n"
     ]
    }
   ],
   "source": [
    "for i in given_list:\n",
    "    cnt = 0\n",
    "    for j in bst_list1_dfs:\n",
    "        if (i==j):\n",
    "            print(\"{} is found in the bst tree\".format(j))\n",
    "            break"
   ]
  },
  {
   "cell_type": "code",
   "execution_count": null,
   "metadata": {},
   "outputs": [],
   "source": []
  }
 ],
 "metadata": {
  "kernelspec": {
   "display_name": "Python 3",
   "language": "python",
   "name": "python3"
  },
  "language_info": {
   "codemirror_mode": {
    "name": "ipython",
    "version": 3
   },
   "file_extension": ".py",
   "mimetype": "text/x-python",
   "name": "python",
   "nbconvert_exporter": "python",
   "pygments_lexer": "ipython3",
   "version": "3.7.6"
  }
 },
 "nbformat": 4,
 "nbformat_minor": 4
}

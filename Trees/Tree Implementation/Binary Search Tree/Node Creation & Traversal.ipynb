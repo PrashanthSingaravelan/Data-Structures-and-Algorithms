{
 "cells": [
  {
   "cell_type": "markdown",
   "id": "cfd1079e",
   "metadata": {},
   "source": [
    "## Node Creation"
   ]
  },
  {
   "cell_type": "code",
   "execution_count": 1,
   "id": "376f8c2d",
   "metadata": {},
   "outputs": [],
   "source": [
    "class Node(object):\n",
    "    def __init__(self, value):\n",
    "        self.value = value\n",
    "        self.left  = None\n",
    "        self.right = None "
   ]
  },
  {
   "cell_type": "code",
   "execution_count": 2,
   "id": "e9577eab",
   "metadata": {},
   "outputs": [],
   "source": [
    "class BinaryTree(object):\n",
    "    def __init__(self, root):\n",
    "        self.root = Node(root)  ## Initial tree will have only the element, left=None and right=None"
   ]
  },
  {
   "cell_type": "code",
   "execution_count": 3,
   "id": "c579d03f",
   "metadata": {},
   "outputs": [],
   "source": [
    "# Set up tree\n",
    "tree = BinaryTree(1) ## root-node creation\n",
    "tree.root.left       = Node(2)\n",
    "tree.root.right      = Node(3)\n",
    "tree.root.left.left  = Node(4)\n",
    "tree.root.left.right = Node(5)"
   ]
  },
  {
   "cell_type": "markdown",
   "id": "4411b18f",
   "metadata": {},
   "source": [
    "## Pre-Order Traversal --> Root | Left | Right"
   ]
  },
  {
   "cell_type": "code",
   "execution_count": 4,
   "id": "f117fbb2",
   "metadata": {},
   "outputs": [],
   "source": [
    "class Node(object):\n",
    "    def __init__(self, value):\n",
    "        self.value = value\n",
    "        self.left  = None\n",
    "        self.right = None "
   ]
  },
  {
   "cell_type": "code",
   "execution_count": 5,
   "id": "b8a6b836",
   "metadata": {},
   "outputs": [],
   "source": [
    "class BinaryTree(object):\n",
    "    def __init__(self, root):\n",
    "        self.root = Node(root)  ## Initial tree will have only the element, left=None and right=None\n",
    "        \n",
    "## traversal_element -> contains all the elements traversed\n",
    "    def preorder_print(self, start, traversal_element): \n",
    "        if start:\n",
    "            traversal_element = traversal_element + (str(start.value) + \"-\")\n",
    "            traversal_element = self.preorder_print(start.left, traversal_element)\n",
    "            traversal_element = self.preorder_print(start.right, traversal_element)\n",
    "        return traversal_element"
   ]
  },
  {
   "cell_type": "code",
   "execution_count": 6,
   "id": "61abc944",
   "metadata": {},
   "outputs": [
    {
     "data": {
      "text/plain": [
       "'1-2-4-5-3-'"
      ]
     },
     "execution_count": 6,
     "metadata": {},
     "output_type": "execute_result"
    }
   ],
   "source": [
    "# Set up tree\n",
    "tree = BinaryTree(1) ## root-node creation\n",
    "tree.root.left       = Node(2)\n",
    "tree.root.right      = Node(3)\n",
    "tree.root.left.left  = Node(4)\n",
    "tree.root.left.right = Node(5)\n",
    "\n",
    "tree.preorder_print(tree.root, \"\")"
   ]
  },
  {
   "cell_type": "markdown",
   "id": "aea08ef0",
   "metadata": {},
   "source": [
    "## Post-Order Traversal --> Left | Right | Root"
   ]
  },
  {
   "cell_type": "code",
   "execution_count": 7,
   "id": "c8379960",
   "metadata": {},
   "outputs": [],
   "source": [
    "class Node(object):\n",
    "    def __init__(self, value):\n",
    "        self.value = value\n",
    "        self.left  = None\n",
    "        self.right = None "
   ]
  },
  {
   "cell_type": "code",
   "execution_count": 8,
   "id": "8638149f",
   "metadata": {},
   "outputs": [],
   "source": [
    "class BinaryTree(object):\n",
    "    def __init__(self, root):\n",
    "        self.root = Node(root)  ## Initial tree will have only the element, left=None and right=None\n",
    "        \n",
    "## traversal_element -> contains all the elements traversed\n",
    "    def postorder_print(self, start, traversal):\n",
    "        if start:\n",
    "            traversal = self.postorder_print(start.left, traversal)\n",
    "            traversal = self.postorder_print(start.right, traversal)\n",
    "            traversal += (str(start.value) + \"-\")\n",
    "        return traversal"
   ]
  },
  {
   "cell_type": "code",
   "execution_count": 9,
   "id": "6539b81b",
   "metadata": {},
   "outputs": [
    {
     "data": {
      "text/plain": [
       "'4-5-2-3-1-'"
      ]
     },
     "execution_count": 9,
     "metadata": {},
     "output_type": "execute_result"
    }
   ],
   "source": [
    "# Set up tree\n",
    "tree = BinaryTree(1) ## root-node creation\n",
    "tree.root.left       = Node(2)\n",
    "tree.root.right      = Node(3)\n",
    "tree.root.left.left  = Node(4)\n",
    "tree.root.left.right = Node(5)\n",
    "\n",
    "tree.postorder_print(tree.root, \"\")"
   ]
  },
  {
   "cell_type": "markdown",
   "id": "9b0e88b1",
   "metadata": {},
   "source": [
    "## In-Order Traveral --> Left | Root | Right"
   ]
  },
  {
   "cell_type": "code",
   "execution_count": 10,
   "id": "8969e40d",
   "metadata": {},
   "outputs": [],
   "source": [
    "class Node(object):\n",
    "    def __init__(self, value):\n",
    "        self.value = value\n",
    "        self.left  = None\n",
    "        self.right = None "
   ]
  },
  {
   "cell_type": "code",
   "execution_count": 11,
   "id": "a487be43",
   "metadata": {},
   "outputs": [],
   "source": [
    "class BinaryTree(object):\n",
    "    def __init__(self, root):\n",
    "        self.root = Node(root)  ## Initial tree will have only the element, left=None and right=None\n",
    "        \n",
    "## traversal_element -> contains all the elements traversed\n",
    "    def inorder_print(self, start, traversal):\n",
    "        if start:\n",
    "            traversal = self.inorder_print(start.left, traversal)\n",
    "            traversal += (str(start.value) + \"-\")\n",
    "            traversal = self.inorder_print(start.right, traversal)\n",
    "        return traversal"
   ]
  },
  {
   "cell_type": "code",
   "execution_count": 12,
   "id": "961704f0",
   "metadata": {},
   "outputs": [
    {
     "data": {
      "text/plain": [
       "'4-2-5-1-3-'"
      ]
     },
     "execution_count": 12,
     "metadata": {},
     "output_type": "execute_result"
    }
   ],
   "source": [
    "# Set up tree\n",
    "tree = BinaryTree(1) ## root-node creation\n",
    "tree.root.left       = Node(2)\n",
    "tree.root.right      = Node(3)\n",
    "tree.root.left.left  = Node(4)\n",
    "tree.root.left.right = Node(5)\n",
    "\n",
    "tree.inorder_print(tree.root, \"\")"
   ]
  },
  {
   "cell_type": "markdown",
   "id": "8a4cd40f",
   "metadata": {},
   "source": [
    "## Level Order Traversal"
   ]
  },
  {
   "cell_type": "code",
   "execution_count": 13,
   "id": "01c60252",
   "metadata": {},
   "outputs": [],
   "source": [
    "class Queue(object):\n",
    "    \n",
    "    def __init__(self):\n",
    "        self.queue = []\n",
    "        \n",
    "    def is_empty(self):\n",
    "        return len(self.queue) == 0  ## if len(queue) is 0, will return true\n",
    "        \n",
    "    def enqueue(self, element):\n",
    "        self.queue.insert(0, element)\n",
    "        \n",
    "    def dequeue(self):\n",
    "        if not self.is_empty():\n",
    "            return self.queue.pop()\n",
    "        \n",
    "    def peek(self):\n",
    "        if not self.is_empty():\n",
    " ## since we are going to enqueue the elements as node, we need only the value in that node\n",
    "            return self.queue[-1].value \n",
    "\n",
    " ## Over-riding the original len()   \n",
    "    def __len__(self): \n",
    "        return len(self.queue)"
   ]
  },
  {
   "cell_type": "code",
   "execution_count": 14,
   "id": "9fd0d8e3",
   "metadata": {},
   "outputs": [],
   "source": [
    "class Node(object):\n",
    "    def __init__(self, value):\n",
    "        self.value = value\n",
    "        self.left  = None\n",
    "        self.right = None \n",
    "        \n",
    "class BinaryTree(object):\n",
    "    def __init__(self, root):\n",
    "        self.root = Node(root)  ## Initial tree will have only the element, left=None and right=None\n",
    "        \n",
    "## traversal_element -> contains all the elements traversed\n",
    "    def level_order(self, start, traversal):\n",
    "        \n",
    "        if start is None:\n",
    "            return\n",
    "        \n",
    "        traversal = traversal\n",
    "        queue     = Queue() ## initializing the queue data-structure \n",
    "        queue.enqueue(start)  ## enqueue the 1st element\n",
    "        \n",
    "        while (len(queue) > 0):\n",
    "            traversal = traversal + str(queue.peek()) + \"-\" ## printing the 0th index element \n",
    "            node      = queue.dequeue()  ## taking out the 0th index element and then traversing\n",
    "        \n",
    "        ## exploring the children node\n",
    "            if node.left: ## if left nodes are present, enqueue their children\n",
    "                queue.enqueue(node.left)\n",
    "            if node.right:  ## if right nodes are present, enqueue their children\n",
    "                queue.enqueue(node.right)\n",
    "\n",
    "        return traversal"
   ]
  },
  {
   "cell_type": "code",
   "execution_count": 15,
   "id": "423994f5",
   "metadata": {},
   "outputs": [
    {
     "data": {
      "text/plain": [
       "'1-2-3-4-5-'"
      ]
     },
     "execution_count": 15,
     "metadata": {},
     "output_type": "execute_result"
    }
   ],
   "source": [
    "# Set up tree\n",
    "tree                 = BinaryTree(1) ## root-node creation\n",
    "tree.root.left       = Node(2)\n",
    "tree.root.right      = Node(3)\n",
    "tree.root.left.left  = Node(4)\n",
    "tree.root.left.right = Node(5)\n",
    "\n",
    "tree.level_order(tree.root, \"\")"
   ]
  }
 ],
 "metadata": {
  "kernelspec": {
   "display_name": "Python 3 (ipykernel)",
   "language": "python",
   "name": "python3"
  },
  "language_info": {
   "codemirror_mode": {
    "name": "ipython",
    "version": 3
   },
   "file_extension": ".py",
   "mimetype": "text/x-python",
   "name": "python",
   "nbconvert_exporter": "python",
   "pygments_lexer": "ipython3",
   "version": "3.10.6"
  }
 },
 "nbformat": 4,
 "nbformat_minor": 5
}

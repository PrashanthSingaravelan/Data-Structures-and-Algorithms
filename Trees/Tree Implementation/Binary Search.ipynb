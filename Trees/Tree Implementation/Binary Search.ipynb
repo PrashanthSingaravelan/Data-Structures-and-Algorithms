{
 "cells": [
  {
   "cell_type": "code",
   "execution_count": null,
   "id": "91294af7",
   "metadata": {},
   "outputs": [],
   "source": []
  },
  {
   "cell_type": "code",
   "execution_count": 8,
   "id": "edc9eefe",
   "metadata": {},
   "outputs": [],
   "source": [
    "\"\"\"You're going to write a binary search function.\n",
    "You should use an iterative approach - meaning\n",
    "using loops.\n",
    "Your function should take two inputs:\n",
    "a Python list to search through, and the value\n",
    "you're searching for.\n",
    "Assume the list only has distinct elements,\n",
    "meaning there are no repeated values, and \n",
    "elements are in a strictly increasing order.\n",
    "Return the index of value, or -1 if the value\n",
    "doesn't exist in the list.\"\"\"\n",
    "\n",
    "def binary_search(input_array, value):\n",
    "    \"\"\"iteratively return the index of the item with binary search or None if not found\"\"\"\n",
    "    lower_index = 0\n",
    "    upper_index = len(input_array) - 1\n",
    "\n",
    "    while lower_index <= upper_index:\n",
    "        # calculate the middle index by sum the lower_index and upper_index and divide by 2\n",
    "        middle_index = (lower_index + upper_index) // 2 \n",
    "        # check if the item is found\n",
    "        if input_array[middle_index] == value:\n",
    "            return middle_index\n",
    "        elif input_array[middle_index] < value:\n",
    "            lower_index = middle_index + 1\n",
    "        elif input_array[middle_index] > value:\n",
    "            upper_index = middle_index - 1\n",
    "            \n",
    "    return -1"
   ]
  },
  {
   "cell_type": "code",
   "execution_count": 9,
   "id": "b778484b",
   "metadata": {},
   "outputs": [
    {
     "name": "stdout",
     "output_type": "stream",
     "text": [
      "-1\n"
     ]
    }
   ],
   "source": [
    "test_list = [1,3,9,11,15,19,29]\n",
    "test_val1 = 25\n",
    "print(binary_search(test_list, test_val1))"
   ]
  },
  {
   "cell_type": "code",
   "execution_count": 10,
   "id": "f43a0171",
   "metadata": {},
   "outputs": [
    {
     "name": "stdout",
     "output_type": "stream",
     "text": [
      "4\n"
     ]
    }
   ],
   "source": [
    "test_val2 = 15\n",
    "print(binary_search(test_list, test_val2))"
   ]
  }
 ],
 "metadata": {
  "kernelspec": {
   "display_name": "Python 3 (ipykernel)",
   "language": "python",
   "name": "python3"
  },
  "language_info": {
   "codemirror_mode": {
    "name": "ipython",
    "version": 3
   },
   "file_extension": ".py",
   "mimetype": "text/x-python",
   "name": "python",
   "nbconvert_exporter": "python",
   "pygments_lexer": "ipython3",
   "version": "3.9.12"
  }
 },
 "nbformat": 4,
 "nbformat_minor": 5
}

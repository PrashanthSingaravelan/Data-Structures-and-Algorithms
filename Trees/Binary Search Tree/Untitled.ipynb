{
 "cells": [
  {
   "cell_type": "code",
   "execution_count": 1,
   "id": "a0aede3c",
   "metadata": {},
   "outputs": [],
   "source": [
    "class Node:\n",
    "    def __init__(self, data):\n",
    "        self.val   = data\n",
    "        self.left  = None\n",
    "        self.right = None"
   ]
  },
  {
   "cell_type": "code",
   "execution_count": 2,
   "id": "252ea1e6",
   "metadata": {},
   "outputs": [],
   "source": [
    "class BST:\n",
    "    def __init__(self):\n",
    "        self.root = None\n",
    "        self.list1 = []\n",
    "        \n",
    "    def _insert(self, data, current_node):\n",
    "\n",
    "    ## going to add this node in left\n",
    "        if data < current_node.val:  \n",
    "    ## before adding, check if any-other left node is there\n",
    "            if current_node.left is None: ## if No other left nodes are present, simply add it\n",
    "                current_node.left = Node(data)\n",
    "            else: ## if any-other left nodes are present, go still left\n",
    "                self._insert(data, current_node.left)\n",
    "                \n",
    "    ## going to add this node in right\n",
    "        elif data > current_node.val:  \n",
    "    ## before adding, check if any-other right node is there\n",
    "            if current_node.right is None: ## if No other right nodes are present, simply add it\n",
    "                current_node.right = Node(data)\n",
    "            else: ## if any-other right nodes are present, go still right\n",
    "                self._insert(data, current_node.right)\n",
    "        \n",
    "        else:\n",
    "            print(\"Value-{} already present in the tree\".format(data))\n",
    "    \n",
    "    def insert(self, data):\n",
    "        if self.root is None: ## if a Node is not present, \n",
    "            self.root = Node(data)\n",
    "        else:\n",
    "            self._insert(data, self.root) ## insert all other nodes\n",
    "            \n",
    "    def _find(self, data, current_node):\n",
    "        if data == current_node.val:\n",
    "            return True\n",
    "        \n",
    "## query data > current_node.data and some right node to that current should exists (to traverse)\n",
    "        if data > current_node.val and current_node.right:\n",
    "            return self._find(data, current_node.right)\n",
    "        \n",
    "## query data < current_node.data and some left node to that current should exists (to traverse)\n",
    "        elif data < current_node.val and current_node.left:\n",
    "            return self._find(data, current_node.left)\n",
    "    \n",
    "    ## root, left, right\n",
    "    def preorder(self, start):\n",
    "        if start: \n",
    "            if start.left or start.right:\n",
    "                self.list1.append((start.val, start.left.val, start.right.val))\n",
    "                self.preorder(start.left)\n",
    "                self.preorder(start.right)\n",
    "        return self.list1"
   ]
  },
  {
   "cell_type": "code",
   "execution_count": 3,
   "id": "82615950",
   "metadata": {},
   "outputs": [],
   "source": [
    "tree = BST()\n",
    "list1 = [4, 2, 7, 1, 3, 6, 9]\n",
    "for i in list1:\n",
    "    tree.insert(i)"
   ]
  },
  {
   "cell_type": "code",
   "execution_count": 4,
   "id": "5c37357c",
   "metadata": {},
   "outputs": [
    {
     "data": {
      "text/plain": [
       "[(4, 2, 7), (2, 1, 3), (7, 6, 9)]"
      ]
     },
     "execution_count": 4,
     "metadata": {},
     "output_type": "execute_result"
    }
   ],
   "source": [
    "ans = tree.preorder(tree.root)\n",
    "ans"
   ]
  },
  {
   "cell_type": "code",
   "execution_count": 37,
   "id": "4555ee20",
   "metadata": {},
   "outputs": [],
   "source": [
    "class BST:\n",
    "    def __init__(self):\n",
    "        self.root = None\n",
    "        self.list1 = []\n",
    "        \n",
    "    def _insert(self, data, current_node):\n",
    "\n",
    "    ## going to add this node in left\n",
    "        if data < current_node.val:  \n",
    "    ## before adding, check if any-other left node is there\n",
    "            if current_node.left is None: ## if No other left nodes are present, simply add it\n",
    "                current_node.left = Node(data)\n",
    "            else: ## if any-other left nodes are present, go still left\n",
    "                self._insert(data, current_node.left)\n",
    "                \n",
    "    ## going to add this node in right\n",
    "        elif data > current_node.val:  \n",
    "    ## before adding, check if any-other right node is there\n",
    "            if current_node.right is None: ## if No other right nodes are present, simply add it\n",
    "                current_node.right = Node(data)\n",
    "            else: ## if any-other right nodes are present, go still right\n",
    "                self._insert(data, current_node.right)\n",
    "        \n",
    "        else:\n",
    "            print(\"Value-{} already present in the tree\".format(data))\n",
    "    \n",
    "    def insert(self, data):\n",
    "        if self.root is None: ## if a Node is not present, \n",
    "            self.root = Node(data)\n",
    "        else:\n",
    "            self._insert(data, self.root) ## insert all other nodes\n",
    "            \n",
    "    def _find(self, data, current_node):\n",
    "        if data == current_node.val:\n",
    "            return True\n",
    "        \n",
    "## query data > current_node.data and some right node to that current should exists (to traverse)\n",
    "        if data > current_node.val and current_node.right:\n",
    "            return self._find(data, current_node.right)\n",
    "        \n",
    "## query data < current_node.data and some left node to that current should exists (to traverse)\n",
    "        elif data < current_node.val and current_node.left:\n",
    "            return self._find(data, current_node.left)\n",
    "        \n",
    "    def preorder(self, start, val):\n",
    "        if start:                 \n",
    "                if start.val == val:\n",
    "                    return start\n",
    "                \n",
    "        ## val greater than start.val (go only to right)\n",
    "                if (val > start.val):\n",
    "                    return self.preorder(start.right, val)\n",
    "\n",
    "        ## val lesser than start.val (go only to left)\n",
    "                if (val < start.val):\n",
    "                    return self.preorder(start.left, val)"
   ]
  },
  {
   "cell_type": "code",
   "execution_count": 38,
   "id": "6cc6003c",
   "metadata": {},
   "outputs": [],
   "source": [
    "val = 9\n",
    "tree = BST()\n",
    "list1 = [4, 2, 7, 1, 3, 6, 9]\n",
    "for i in list1:\n",
    "    tree.insert(i)"
   ]
  },
  {
   "cell_type": "code",
   "execution_count": 39,
   "id": "a551fe91",
   "metadata": {},
   "outputs": [
    {
     "name": "stdout",
     "output_type": "stream",
     "text": [
      "9\n"
     ]
    },
    {
     "data": {
      "text/plain": [
       "<__main__.Node at 0x105c18190>"
      ]
     },
     "execution_count": 39,
     "metadata": {},
     "output_type": "execute_result"
    }
   ],
   "source": [
    "ans = tree.preorder(tree.root, val)\n",
    "ans"
   ]
  },
  {
   "cell_type": "code",
   "execution_count": null,
   "id": "c5916005",
   "metadata": {},
   "outputs": [],
   "source": []
  }
 ],
 "metadata": {
  "kernelspec": {
   "display_name": "Python 3 (ipykernel)",
   "language": "python",
   "name": "python3"
  },
  "language_info": {
   "codemirror_mode": {
    "name": "ipython",
    "version": 3
   },
   "file_extension": ".py",
   "mimetype": "text/x-python",
   "name": "python",
   "nbconvert_exporter": "python",
   "pygments_lexer": "ipython3",
   "version": "3.10.6"
  }
 },
 "nbformat": 4,
 "nbformat_minor": 5
}
